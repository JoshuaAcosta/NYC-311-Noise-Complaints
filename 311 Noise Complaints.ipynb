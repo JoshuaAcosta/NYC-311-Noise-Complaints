{
 "cells": [
  {
   "cell_type": "code",
   "execution_count": 1,
   "metadata": {
    "collapsed": false,
    "extensions": {
     "jupyter_dashboards": {
      "version": 1,
      "views": {
       "grid_default": {
        "hidden": true
       },
       "report_default": {}
      }
     }
    }
   },
   "outputs": [],
   "source": [
    "#Imports\n",
    "%matplotlib inline\n",
    "import pandas as pd\n",
    "import numpy as np\n",
    "import matplotlib.pyplot as plt \n",
    "import folium\n",
    "import seaborn as sns\n",
    "sns.set(style=\"darkgrid\")"
   ]
  },
  {
   "cell_type": "code",
   "execution_count": 2,
   "metadata": {
    "collapsed": true,
    "extensions": {
     "jupyter_dashboards": {
      "version": 1,
      "views": {
       "grid_default": {
        "hidden": true
       },
       "report_default": {}
      }
     }
    }
   },
   "outputs": [],
   "source": [
    "#Option set to display all columns\n",
    "pd.set_option('display.max_columns', None)"
   ]
  },
  {
   "cell_type": "code",
   "execution_count": 3,
   "metadata": {
    "collapsed": false,
    "extensions": {
     "jupyter_dashboards": {
      "version": 1,
      "views": {
       "grid_default": {
        "hidden": true
       },
       "report_default": {}
      }
     }
    }
   },
   "outputs": [
    {
     "name": "stderr",
     "output_type": "stream",
     "text": [
      "/usr/local/lib/python3.5/site-packages/IPython/core/interactiveshell.py:2902: DtypeWarning: Columns (17) have mixed types. Specify dtype option on import or set low_memory=False.\n",
      "  interactivity=interactivity, compiler=compiler, result=result)\n"
     ]
    }
   ],
   "source": [
    "noise_df = pd.read_csv(\"data/311_Service_Requests_Noise_Complaints_from_2016.csv\")"
   ]
  },
  {
   "cell_type": "code",
   "execution_count": 4,
   "metadata": {
    "collapsed": false,
    "extensions": {
     "jupyter_dashboards": {
      "version": 1,
      "views": {
       "grid_default": {
        "col": 4,
        "height": 4,
        "hidden": false,
        "row": 47,
        "width": 4
       },
       "report_default": {}
      }
     }
    }
   },
   "outputs": [
    {
     "data": {
      "text/plain": [
       "(419654, 53)"
      ]
     },
     "execution_count": 4,
     "metadata": {},
     "output_type": "execute_result"
    }
   ],
   "source": [
    "noise_df.shape"
   ]
  },
  {
   "cell_type": "code",
   "execution_count": 5,
   "metadata": {
    "collapsed": false,
    "extensions": {
     "jupyter_dashboards": {
      "version": 1,
      "views": {
       "grid_default": {
        "col": 0,
        "height": 47,
        "hidden": false,
        "row": 0,
        "width": 12
       },
       "report_default": {}
      }
     }
    }
   },
   "outputs": [
    {
     "data": {
      "text/html": [
       "<div>\n",
       "<table border=\"1\" class=\"dataframe\">\n",
       "  <thead>\n",
       "    <tr style=\"text-align: right;\">\n",
       "      <th></th>\n",
       "      <th>Unique Key</th>\n",
       "      <th>Created Date</th>\n",
       "      <th>Closed Date</th>\n",
       "      <th>Agency</th>\n",
       "      <th>Agency Name</th>\n",
       "      <th>Complaint Type</th>\n",
       "      <th>Descriptor</th>\n",
       "      <th>Location Type</th>\n",
       "      <th>Incident Zip</th>\n",
       "      <th>Incident Address</th>\n",
       "      <th>Street Name</th>\n",
       "      <th>Cross Street 1</th>\n",
       "      <th>Cross Street 2</th>\n",
       "      <th>Intersection Street 1</th>\n",
       "      <th>Intersection Street 2</th>\n",
       "      <th>Address Type</th>\n",
       "      <th>City</th>\n",
       "      <th>Landmark</th>\n",
       "      <th>Facility Type</th>\n",
       "      <th>Status</th>\n",
       "      <th>Due Date</th>\n",
       "      <th>Resolution Description</th>\n",
       "      <th>Resolution Action Updated Date</th>\n",
       "      <th>Community Board</th>\n",
       "      <th>Borough</th>\n",
       "      <th>X Coordinate (State Plane)</th>\n",
       "      <th>Y Coordinate (State Plane)</th>\n",
       "      <th>Park Facility Name</th>\n",
       "      <th>Park Borough</th>\n",
       "      <th>School Name</th>\n",
       "      <th>School Number</th>\n",
       "      <th>School Region</th>\n",
       "      <th>School Code</th>\n",
       "      <th>School Phone Number</th>\n",
       "      <th>School Address</th>\n",
       "      <th>School City</th>\n",
       "      <th>School State</th>\n",
       "      <th>School Zip</th>\n",
       "      <th>School Not Found</th>\n",
       "      <th>School or Citywide Complaint</th>\n",
       "      <th>Vehicle Type</th>\n",
       "      <th>Taxi Company Borough</th>\n",
       "      <th>Taxi Pick Up Location</th>\n",
       "      <th>Bridge Highway Name</th>\n",
       "      <th>Bridge Highway Direction</th>\n",
       "      <th>Road Ramp</th>\n",
       "      <th>Bridge Highway Segment</th>\n",
       "      <th>Garage Lot Name</th>\n",
       "      <th>Ferry Direction</th>\n",
       "      <th>Ferry Terminal Name</th>\n",
       "      <th>Latitude</th>\n",
       "      <th>Longitude</th>\n",
       "      <th>Location</th>\n",
       "    </tr>\n",
       "  </thead>\n",
       "  <tbody>\n",
       "    <tr>\n",
       "      <th>0</th>\n",
       "      <td>34440200</td>\n",
       "      <td>09/30/2016 11:44:00 AM</td>\n",
       "      <td>10/05/2016 11:41:00 AM</td>\n",
       "      <td>DEP</td>\n",
       "      <td>Department of Environmental Protection</td>\n",
       "      <td>Noise</td>\n",
       "      <td>Noise, Barking Dog (NR5)</td>\n",
       "      <td>NaN</td>\n",
       "      <td>10038.0</td>\n",
       "      <td>111 FULTON STREET</td>\n",
       "      <td>FULTON STREET</td>\n",
       "      <td>WILLIAM ST</td>\n",
       "      <td>DUTCH ST</td>\n",
       "      <td>NaN</td>\n",
       "      <td>NaN</td>\n",
       "      <td>ADDRESS</td>\n",
       "      <td>NEW YORK</td>\n",
       "      <td>NaN</td>\n",
       "      <td>NaN</td>\n",
       "      <td>Closed</td>\n",
       "      <td>NaN</td>\n",
       "      <td>The Department of Environmental Protection det...</td>\n",
       "      <td>10/05/2016 11:41:00 AM</td>\n",
       "      <td>01 MANHATTAN</td>\n",
       "      <td>MANHATTAN</td>\n",
       "      <td>982367.0</td>\n",
       "      <td>197857.0</td>\n",
       "      <td>Unspecified</td>\n",
       "      <td>MANHATTAN</td>\n",
       "      <td>Unspecified</td>\n",
       "      <td>Unspecified</td>\n",
       "      <td>Unspecified</td>\n",
       "      <td>Unspecified</td>\n",
       "      <td>Unspecified</td>\n",
       "      <td>Unspecified</td>\n",
       "      <td>Unspecified</td>\n",
       "      <td>Unspecified</td>\n",
       "      <td>Unspecified</td>\n",
       "      <td>NaN</td>\n",
       "      <td>NaN</td>\n",
       "      <td>NaN</td>\n",
       "      <td>NaN</td>\n",
       "      <td>NaN</td>\n",
       "      <td>NaN</td>\n",
       "      <td>NaN</td>\n",
       "      <td>NaN</td>\n",
       "      <td>NaN</td>\n",
       "      <td>NaN</td>\n",
       "      <td>NaN</td>\n",
       "      <td>NaN</td>\n",
       "      <td>40.709748</td>\n",
       "      <td>-74.006792</td>\n",
       "      <td>(40.70974831269426, -74.00679194227898)</td>\n",
       "    </tr>\n",
       "    <tr>\n",
       "      <th>1</th>\n",
       "      <td>34440868</td>\n",
       "      <td>09/30/2016 05:07:00 PM</td>\n",
       "      <td>10/05/2016 09:06:00 AM</td>\n",
       "      <td>DEP</td>\n",
       "      <td>Department of Environmental Protection</td>\n",
       "      <td>Noise</td>\n",
       "      <td>Noise, Barking Dog (NR5)</td>\n",
       "      <td>NaN</td>\n",
       "      <td>11216.0</td>\n",
       "      <td>1311 PACIFIC STREET</td>\n",
       "      <td>PACIFIC STREET</td>\n",
       "      <td>NOSTRAND AVE</td>\n",
       "      <td>NEW YORK AVE</td>\n",
       "      <td>NaN</td>\n",
       "      <td>NaN</td>\n",
       "      <td>ADDRESS</td>\n",
       "      <td>BROOKLYN</td>\n",
       "      <td>NaN</td>\n",
       "      <td>NaN</td>\n",
       "      <td>Closed</td>\n",
       "      <td>NaN</td>\n",
       "      <td>The Department of Environmental Protection det...</td>\n",
       "      <td>10/05/2016 09:06:00 AM</td>\n",
       "      <td>08 BROOKLYN</td>\n",
       "      <td>BROOKLYN</td>\n",
       "      <td>998463.0</td>\n",
       "      <td>186150.0</td>\n",
       "      <td>Unspecified</td>\n",
       "      <td>BROOKLYN</td>\n",
       "      <td>Unspecified</td>\n",
       "      <td>Unspecified</td>\n",
       "      <td>Unspecified</td>\n",
       "      <td>Unspecified</td>\n",
       "      <td>Unspecified</td>\n",
       "      <td>Unspecified</td>\n",
       "      <td>Unspecified</td>\n",
       "      <td>Unspecified</td>\n",
       "      <td>Unspecified</td>\n",
       "      <td>NaN</td>\n",
       "      <td>NaN</td>\n",
       "      <td>NaN</td>\n",
       "      <td>NaN</td>\n",
       "      <td>NaN</td>\n",
       "      <td>NaN</td>\n",
       "      <td>NaN</td>\n",
       "      <td>NaN</td>\n",
       "      <td>NaN</td>\n",
       "      <td>NaN</td>\n",
       "      <td>NaN</td>\n",
       "      <td>NaN</td>\n",
       "      <td>40.677604</td>\n",
       "      <td>-73.948759</td>\n",
       "      <td>(40.67760409805561, -73.94875870826627)</td>\n",
       "    </tr>\n",
       "    <tr>\n",
       "      <th>2</th>\n",
       "      <td>34444617</td>\n",
       "      <td>10/01/2016 08:42:00 PM</td>\n",
       "      <td>10/05/2016 11:59:00 AM</td>\n",
       "      <td>DEP</td>\n",
       "      <td>Department of Environmental Protection</td>\n",
       "      <td>Noise</td>\n",
       "      <td>Noise, Barking Dog (NR5)</td>\n",
       "      <td>NaN</td>\n",
       "      <td>11231.0</td>\n",
       "      <td>95 DIKEMAN STREET</td>\n",
       "      <td>DIKEMAN STREET</td>\n",
       "      <td>RICHARDS ST</td>\n",
       "      <td>VAN BRUNT ST</td>\n",
       "      <td>NaN</td>\n",
       "      <td>NaN</td>\n",
       "      <td>ADDRESS</td>\n",
       "      <td>BROOKLYN</td>\n",
       "      <td>NaN</td>\n",
       "      <td>NaN</td>\n",
       "      <td>Closed</td>\n",
       "      <td>NaN</td>\n",
       "      <td>The Department of Environmental Protection det...</td>\n",
       "      <td>10/05/2016 11:59:00 AM</td>\n",
       "      <td>06 BROOKLYN</td>\n",
       "      <td>BROOKLYN</td>\n",
       "      <td>980620.0</td>\n",
       "      <td>185732.0</td>\n",
       "      <td>Unspecified</td>\n",
       "      <td>BROOKLYN</td>\n",
       "      <td>Unspecified</td>\n",
       "      <td>Unspecified</td>\n",
       "      <td>Unspecified</td>\n",
       "      <td>Unspecified</td>\n",
       "      <td>Unspecified</td>\n",
       "      <td>Unspecified</td>\n",
       "      <td>Unspecified</td>\n",
       "      <td>Unspecified</td>\n",
       "      <td>Unspecified</td>\n",
       "      <td>NaN</td>\n",
       "      <td>NaN</td>\n",
       "      <td>NaN</td>\n",
       "      <td>NaN</td>\n",
       "      <td>NaN</td>\n",
       "      <td>NaN</td>\n",
       "      <td>NaN</td>\n",
       "      <td>NaN</td>\n",
       "      <td>NaN</td>\n",
       "      <td>NaN</td>\n",
       "      <td>NaN</td>\n",
       "      <td>NaN</td>\n",
       "      <td>40.676467</td>\n",
       "      <td>-74.013087</td>\n",
       "      <td>(40.67646744834844, -74.01308680144253)</td>\n",
       "    </tr>\n",
       "    <tr>\n",
       "      <th>3</th>\n",
       "      <td>34445224</td>\n",
       "      <td>10/01/2016 01:41:00 AM</td>\n",
       "      <td>10/05/2016 11:45:00 AM</td>\n",
       "      <td>DEP</td>\n",
       "      <td>Department of Environmental Protection</td>\n",
       "      <td>Noise</td>\n",
       "      <td>Noise, Barking Dog (NR5)</td>\n",
       "      <td>NaN</td>\n",
       "      <td>11354.0</td>\n",
       "      <td>143-08 ROOSEVELT AVENUE</td>\n",
       "      <td>ROOSEVELT AVENUE</td>\n",
       "      <td>BOWNE ST</td>\n",
       "      <td>PARSONS BLVD</td>\n",
       "      <td>NaN</td>\n",
       "      <td>NaN</td>\n",
       "      <td>ADDRESS</td>\n",
       "      <td>Flushing</td>\n",
       "      <td>NaN</td>\n",
       "      <td>NaN</td>\n",
       "      <td>Closed</td>\n",
       "      <td>NaN</td>\n",
       "      <td>The Department of Environmental Protection det...</td>\n",
       "      <td>10/05/2016 11:45:00 AM</td>\n",
       "      <td>07 QUEENS</td>\n",
       "      <td>QUEENS</td>\n",
       "      <td>1033005.0</td>\n",
       "      <td>216614.0</td>\n",
       "      <td>Unspecified</td>\n",
       "      <td>QUEENS</td>\n",
       "      <td>Unspecified</td>\n",
       "      <td>Unspecified</td>\n",
       "      <td>Unspecified</td>\n",
       "      <td>Unspecified</td>\n",
       "      <td>Unspecified</td>\n",
       "      <td>Unspecified</td>\n",
       "      <td>Unspecified</td>\n",
       "      <td>Unspecified</td>\n",
       "      <td>Unspecified</td>\n",
       "      <td>NaN</td>\n",
       "      <td>NaN</td>\n",
       "      <td>NaN</td>\n",
       "      <td>NaN</td>\n",
       "      <td>NaN</td>\n",
       "      <td>NaN</td>\n",
       "      <td>NaN</td>\n",
       "      <td>NaN</td>\n",
       "      <td>NaN</td>\n",
       "      <td>NaN</td>\n",
       "      <td>NaN</td>\n",
       "      <td>NaN</td>\n",
       "      <td>40.761097</td>\n",
       "      <td>-73.824006</td>\n",
       "      <td>(40.76109741839995, -73.82400602410654)</td>\n",
       "    </tr>\n",
       "    <tr>\n",
       "      <th>4</th>\n",
       "      <td>34445505</td>\n",
       "      <td>10/01/2016 06:43:00 PM</td>\n",
       "      <td>10/05/2016 11:53:00 AM</td>\n",
       "      <td>DEP</td>\n",
       "      <td>Department of Environmental Protection</td>\n",
       "      <td>Noise</td>\n",
       "      <td>Noise, Barking Dog (NR5)</td>\n",
       "      <td>NaN</td>\n",
       "      <td>11377.0</td>\n",
       "      <td>50-29 CELTIC AVENUE</td>\n",
       "      <td>CELTIC AVENUE</td>\n",
       "      <td>50 AVE</td>\n",
       "      <td>43 ST</td>\n",
       "      <td>NaN</td>\n",
       "      <td>NaN</td>\n",
       "      <td>ADDRESS</td>\n",
       "      <td>Woodside</td>\n",
       "      <td>NaN</td>\n",
       "      <td>NaN</td>\n",
       "      <td>Closed</td>\n",
       "      <td>NaN</td>\n",
       "      <td>The Department of Environmental Protection det...</td>\n",
       "      <td>10/05/2016 11:53:00 AM</td>\n",
       "      <td>02 QUEENS</td>\n",
       "      <td>QUEENS</td>\n",
       "      <td>1005773.0</td>\n",
       "      <td>207914.0</td>\n",
       "      <td>Unspecified</td>\n",
       "      <td>QUEENS</td>\n",
       "      <td>Unspecified</td>\n",
       "      <td>Unspecified</td>\n",
       "      <td>Unspecified</td>\n",
       "      <td>Unspecified</td>\n",
       "      <td>Unspecified</td>\n",
       "      <td>Unspecified</td>\n",
       "      <td>Unspecified</td>\n",
       "      <td>Unspecified</td>\n",
       "      <td>Unspecified</td>\n",
       "      <td>NaN</td>\n",
       "      <td>NaN</td>\n",
       "      <td>NaN</td>\n",
       "      <td>NaN</td>\n",
       "      <td>NaN</td>\n",
       "      <td>NaN</td>\n",
       "      <td>NaN</td>\n",
       "      <td>NaN</td>\n",
       "      <td>NaN</td>\n",
       "      <td>NaN</td>\n",
       "      <td>NaN</td>\n",
       "      <td>NaN</td>\n",
       "      <td>40.737326</td>\n",
       "      <td>-73.922335</td>\n",
       "      <td>(40.73732635345773, -73.92233483940846)</td>\n",
       "    </tr>\n",
       "  </tbody>\n",
       "</table>\n",
       "</div>"
      ],
      "text/plain": [
       "   Unique Key            Created Date             Closed Date Agency  \\\n",
       "0    34440200  09/30/2016 11:44:00 AM  10/05/2016 11:41:00 AM    DEP   \n",
       "1    34440868  09/30/2016 05:07:00 PM  10/05/2016 09:06:00 AM    DEP   \n",
       "2    34444617  10/01/2016 08:42:00 PM  10/05/2016 11:59:00 AM    DEP   \n",
       "3    34445224  10/01/2016 01:41:00 AM  10/05/2016 11:45:00 AM    DEP   \n",
       "4    34445505  10/01/2016 06:43:00 PM  10/05/2016 11:53:00 AM    DEP   \n",
       "\n",
       "                              Agency Name Complaint Type  \\\n",
       "0  Department of Environmental Protection          Noise   \n",
       "1  Department of Environmental Protection          Noise   \n",
       "2  Department of Environmental Protection          Noise   \n",
       "3  Department of Environmental Protection          Noise   \n",
       "4  Department of Environmental Protection          Noise   \n",
       "\n",
       "                 Descriptor Location Type  Incident Zip  \\\n",
       "0  Noise, Barking Dog (NR5)           NaN       10038.0   \n",
       "1  Noise, Barking Dog (NR5)           NaN       11216.0   \n",
       "2  Noise, Barking Dog (NR5)           NaN       11231.0   \n",
       "3  Noise, Barking Dog (NR5)           NaN       11354.0   \n",
       "4  Noise, Barking Dog (NR5)           NaN       11377.0   \n",
       "\n",
       "          Incident Address       Street Name Cross Street 1 Cross Street 2  \\\n",
       "0        111 FULTON STREET     FULTON STREET     WILLIAM ST       DUTCH ST   \n",
       "1      1311 PACIFIC STREET    PACIFIC STREET   NOSTRAND AVE   NEW YORK AVE   \n",
       "2        95 DIKEMAN STREET    DIKEMAN STREET    RICHARDS ST   VAN BRUNT ST   \n",
       "3  143-08 ROOSEVELT AVENUE  ROOSEVELT AVENUE       BOWNE ST   PARSONS BLVD   \n",
       "4      50-29 CELTIC AVENUE     CELTIC AVENUE         50 AVE          43 ST   \n",
       "\n",
       "  Intersection Street 1 Intersection Street 2 Address Type      City Landmark  \\\n",
       "0                   NaN                   NaN      ADDRESS  NEW YORK      NaN   \n",
       "1                   NaN                   NaN      ADDRESS  BROOKLYN      NaN   \n",
       "2                   NaN                   NaN      ADDRESS  BROOKLYN      NaN   \n",
       "3                   NaN                   NaN      ADDRESS  Flushing      NaN   \n",
       "4                   NaN                   NaN      ADDRESS  Woodside      NaN   \n",
       "\n",
       "  Facility Type  Status Due Date  \\\n",
       "0           NaN  Closed      NaN   \n",
       "1           NaN  Closed      NaN   \n",
       "2           NaN  Closed      NaN   \n",
       "3           NaN  Closed      NaN   \n",
       "4           NaN  Closed      NaN   \n",
       "\n",
       "                              Resolution Description  \\\n",
       "0  The Department of Environmental Protection det...   \n",
       "1  The Department of Environmental Protection det...   \n",
       "2  The Department of Environmental Protection det...   \n",
       "3  The Department of Environmental Protection det...   \n",
       "4  The Department of Environmental Protection det...   \n",
       "\n",
       "  Resolution Action Updated Date Community Board    Borough  \\\n",
       "0         10/05/2016 11:41:00 AM    01 MANHATTAN  MANHATTAN   \n",
       "1         10/05/2016 09:06:00 AM     08 BROOKLYN   BROOKLYN   \n",
       "2         10/05/2016 11:59:00 AM     06 BROOKLYN   BROOKLYN   \n",
       "3         10/05/2016 11:45:00 AM       07 QUEENS     QUEENS   \n",
       "4         10/05/2016 11:53:00 AM       02 QUEENS     QUEENS   \n",
       "\n",
       "   X Coordinate (State Plane)  Y Coordinate (State Plane) Park Facility Name  \\\n",
       "0                    982367.0                    197857.0        Unspecified   \n",
       "1                    998463.0                    186150.0        Unspecified   \n",
       "2                    980620.0                    185732.0        Unspecified   \n",
       "3                   1033005.0                    216614.0        Unspecified   \n",
       "4                   1005773.0                    207914.0        Unspecified   \n",
       "\n",
       "  Park Borough  School Name School Number School Region  School Code  \\\n",
       "0    MANHATTAN  Unspecified   Unspecified   Unspecified  Unspecified   \n",
       "1     BROOKLYN  Unspecified   Unspecified   Unspecified  Unspecified   \n",
       "2     BROOKLYN  Unspecified   Unspecified   Unspecified  Unspecified   \n",
       "3       QUEENS  Unspecified   Unspecified   Unspecified  Unspecified   \n",
       "4       QUEENS  Unspecified   Unspecified   Unspecified  Unspecified   \n",
       "\n",
       "  School Phone Number School Address  School City School State   School Zip  \\\n",
       "0         Unspecified    Unspecified  Unspecified  Unspecified  Unspecified   \n",
       "1         Unspecified    Unspecified  Unspecified  Unspecified  Unspecified   \n",
       "2         Unspecified    Unspecified  Unspecified  Unspecified  Unspecified   \n",
       "3         Unspecified    Unspecified  Unspecified  Unspecified  Unspecified   \n",
       "4         Unspecified    Unspecified  Unspecified  Unspecified  Unspecified   \n",
       "\n",
       "  School Not Found  School or Citywide Complaint  Vehicle Type  \\\n",
       "0              NaN                           NaN           NaN   \n",
       "1              NaN                           NaN           NaN   \n",
       "2              NaN                           NaN           NaN   \n",
       "3              NaN                           NaN           NaN   \n",
       "4              NaN                           NaN           NaN   \n",
       "\n",
       "   Taxi Company Borough  Taxi Pick Up Location  Bridge Highway Name  \\\n",
       "0                   NaN                    NaN                  NaN   \n",
       "1                   NaN                    NaN                  NaN   \n",
       "2                   NaN                    NaN                  NaN   \n",
       "3                   NaN                    NaN                  NaN   \n",
       "4                   NaN                    NaN                  NaN   \n",
       "\n",
       "   Bridge Highway Direction  Road Ramp  Bridge Highway Segment  \\\n",
       "0                       NaN        NaN                     NaN   \n",
       "1                       NaN        NaN                     NaN   \n",
       "2                       NaN        NaN                     NaN   \n",
       "3                       NaN        NaN                     NaN   \n",
       "4                       NaN        NaN                     NaN   \n",
       "\n",
       "   Garage Lot Name  Ferry Direction  Ferry Terminal Name   Latitude  \\\n",
       "0              NaN              NaN                  NaN  40.709748   \n",
       "1              NaN              NaN                  NaN  40.677604   \n",
       "2              NaN              NaN                  NaN  40.676467   \n",
       "3              NaN              NaN                  NaN  40.761097   \n",
       "4              NaN              NaN                  NaN  40.737326   \n",
       "\n",
       "   Longitude                                 Location  \n",
       "0 -74.006792  (40.70974831269426, -74.00679194227898)  \n",
       "1 -73.948759  (40.67760409805561, -73.94875870826627)  \n",
       "2 -74.013087  (40.67646744834844, -74.01308680144253)  \n",
       "3 -73.824006  (40.76109741839995, -73.82400602410654)  \n",
       "4 -73.922335  (40.73732635345773, -73.92233483940846)  "
      ]
     },
     "execution_count": 5,
     "metadata": {},
     "output_type": "execute_result"
    }
   ],
   "source": [
    "noise_df.head(5)"
   ]
  },
  {
   "cell_type": "markdown",
   "metadata": {
    "extensions": {
     "jupyter_dashboards": {
      "version": 1,
      "views": {
       "grid_default": {
        "col": 8,
        "height": 4,
        "hidden": false,
        "row": 47,
        "width": 4
       },
       "report_default": {}
      }
     }
    }
   },
   "source": [
    "# Data Cleanup"
   ]
  },
  {
   "cell_type": "code",
   "execution_count": 6,
   "metadata": {
    "collapsed": false,
    "extensions": {
     "jupyter_dashboards": {
      "version": 1,
      "views": {
       "grid_default": {
        "col": 4,
        "height": 32,
        "hidden": false,
        "row": 51,
        "width": 4
       },
       "report_default": {}
      }
     }
    }
   },
   "outputs": [
    {
     "data": {
      "text/plain": [
       "Unique Key                             0\n",
       "Created Date                           0\n",
       "Closed Date                         5766\n",
       "Agency                                 0\n",
       "Agency Name                            0\n",
       "Complaint Type                         0\n",
       "Descriptor                             0\n",
       "Location Type                      58410\n",
       "Incident Zip                        2242\n",
       "Incident Address                   48412\n",
       "Street Name                        48412\n",
       "Cross Street 1                     46935\n",
       "Cross Street 2                     47593\n",
       "Intersection Street 1             371641\n",
       "Intersection Street 2             372111\n",
       "Address Type                        1648\n",
       "City                                2240\n",
       "Landmark                          419465\n",
       "Facility Type                      60744\n",
       "Status                                 0\n",
       "Due Date                           58616\n",
       "Resolution Description              2832\n",
       "Resolution Action Updated Date      4509\n",
       "Community Board                        0\n",
       "Borough                                0\n",
       "X Coordinate (State Plane)          3300\n",
       "Y Coordinate (State Plane)          3300\n",
       "Park Facility Name                     0\n",
       "Park Borough                           0\n",
       "School Name                            0\n",
       "School Number                          0\n",
       "School Region                          0\n",
       "School Code                            0\n",
       "School Phone Number                    0\n",
       "School Address                         0\n",
       "School City                            0\n",
       "School State                           0\n",
       "School Zip                             0\n",
       "School Not Found                   58613\n",
       "School or Citywide Complaint      419654\n",
       "Vehicle Type                      419654\n",
       "Taxi Company Borough              419654\n",
       "Taxi Pick Up Location             419654\n",
       "Bridge Highway Name               419654\n",
       "Bridge Highway Direction          419654\n",
       "Road Ramp                         419654\n",
       "Bridge Highway Segment            419654\n",
       "Garage Lot Name                   419654\n",
       "Ferry Direction                   419654\n",
       "Ferry Terminal Name               419654\n",
       "Latitude                            3300\n",
       "Longitude                           3300\n",
       "Location                            3300\n",
       "dtype: int64"
      ]
     },
     "execution_count": 6,
     "metadata": {},
     "output_type": "execute_result"
    }
   ],
   "source": [
    "noise_df.isnull().sum()"
   ]
  },
  {
   "cell_type": "code",
   "execution_count": 7,
   "metadata": {
    "collapsed": false,
    "extensions": {
     "jupyter_dashboards": {
      "version": 1,
      "views": {
       "grid_default": {
        "hidden": true
       },
       "report_default": {}
      }
     }
    }
   },
   "outputs": [],
   "source": [
    "delete_columns = [\"Intersection Street 1\", \"Intersection Street 2\", \"Address Type\", \"Landmark\", \"Facility Type\",\\\n",
    "                  \"Status\", \"X Coordinate (State Plane)\", \"Y Coordinate (State Plane)\", \"Park Facility Name\",\\\n",
    "                  \"Park Borough\", \"School Name\", \"School Number\", \"School Region\", \"School Code\",\\\n",
    "                  \"School Phone Number\", \n",
    "                  \"School Address\", \"School City\", \"School State\", \"School Zip\", \"School Not Found\",\\\n",
    "                  \"School or Citywide Complaint\", \"Vehicle Type\", \"Taxi Company Borough\", \"Taxi Pick Up Location\",\\\n",
    "                  \"Bridge Highway Name\", \"Bridge Highway Direction\", \"Road Ramp\", \"Bridge Highway Segment\",\\\n",
    "                  \"Garage Lot Name\", \"Ferry Direction\", \"Ferry Terminal Name\",\"Due Date\",\"Resolution Description\", \\\n",
    "                  \"Resolution Action Updated Date\",\"Incident Address\",\"Street Name\",\"Cross Street 1\",\"Cross Street 2\",\\\n",
    "                  \"Location Type\"]\n",
    "\n",
    "noise_df.drop(delete_columns, axis=1, inplace=True)"
   ]
  },
  {
   "cell_type": "code",
   "execution_count": 8,
   "metadata": {
    "collapsed": false
   },
   "outputs": [
    {
     "data": {
      "text/plain": [
       "(419654, 14)"
      ]
     },
     "execution_count": 8,
     "metadata": {},
     "output_type": "execute_result"
    }
   ],
   "source": [
    "#New shape after dropping columns\n",
    "noise_df.shape"
   ]
  },
  {
   "cell_type": "code",
   "execution_count": 9,
   "metadata": {
    "collapsed": false
   },
   "outputs": [
    {
     "data": {
      "text/plain": [
       "Unique Key            0\n",
       "Created Date          0\n",
       "Closed Date        5766\n",
       "Agency                0\n",
       "Agency Name           0\n",
       "Complaint Type        0\n",
       "Descriptor            0\n",
       "Incident Zip       2242\n",
       "City               2240\n",
       "Community Board       0\n",
       "Borough               0\n",
       "Latitude           3300\n",
       "Longitude          3300\n",
       "Location           3300\n",
       "dtype: int64"
      ]
     },
     "execution_count": 9,
     "metadata": {},
     "output_type": "execute_result"
    }
   ],
   "source": [
    "#New null sum by column after dropping columns\n",
    "noise_df.isnull().sum()"
   ]
  },
  {
   "cell_type": "code",
   "execution_count": 10,
   "metadata": {
    "collapsed": false
   },
   "outputs": [
    {
     "data": {
      "text/plain": [
       "Unique Key            0\n",
       "Created Date          0\n",
       "Closed Date        4486\n",
       "Agency                0\n",
       "Agency Name           0\n",
       "Complaint Type        0\n",
       "Descriptor            0\n",
       "Incident Zip          0\n",
       "City                  0\n",
       "Community Board       0\n",
       "Borough               0\n",
       "Latitude              0\n",
       "Longitude             0\n",
       "Location              0\n",
       "dtype: int64"
      ]
     },
     "execution_count": 10,
     "metadata": {},
     "output_type": "execute_result"
    }
   ],
   "source": [
    "#Drop NAs in several categories and print new null sums\n",
    "noise_df = noise_df.dropna(subset=['Latitude',\"Longitude\",\"Complaint Type\", \"Incident Zip\"], how='any')\n",
    "noise_df.isnull().sum()"
   ]
  },
  {
   "cell_type": "code",
   "execution_count": null,
   "metadata": {
    "collapsed": false
   },
   "outputs": [],
   "source": [
    "noise_df.head(5)"
   ]
  },
  {
   "cell_type": "code",
   "execution_count": 11,
   "metadata": {
    "collapsed": false
   },
   "outputs": [
    {
     "data": {
      "text/plain": [
       "dtype('int64')"
      ]
     },
     "execution_count": 11,
     "metadata": {},
     "output_type": "execute_result"
    }
   ],
   "source": [
    "#Change incident_zip column datatype from float to int\n",
    "noise_df['Incident Zip'] = noise_df['Incident Zip'].astype(int)\n",
    "noise_df['Incident Zip'].dtype"
   ]
  },
  {
   "cell_type": "code",
   "execution_count": 12,
   "metadata": {
    "collapsed": false
   },
   "outputs": [
    {
     "data": {
      "text/html": [
       "<div>\n",
       "<table border=\"1\" class=\"dataframe\">\n",
       "  <thead>\n",
       "    <tr style=\"text-align: right;\">\n",
       "      <th></th>\n",
       "      <th>unique_key</th>\n",
       "      <th>created_date</th>\n",
       "      <th>closed_date</th>\n",
       "      <th>agency</th>\n",
       "      <th>agency_name</th>\n",
       "      <th>complaint_type</th>\n",
       "      <th>descriptor</th>\n",
       "      <th>incident_zip</th>\n",
       "      <th>city</th>\n",
       "      <th>community_board</th>\n",
       "      <th>borough</th>\n",
       "      <th>latitude</th>\n",
       "      <th>longitude</th>\n",
       "      <th>location</th>\n",
       "    </tr>\n",
       "  </thead>\n",
       "  <tbody>\n",
       "    <tr>\n",
       "      <th>0</th>\n",
       "      <td>34440200</td>\n",
       "      <td>09/30/2016 11:44:00 AM</td>\n",
       "      <td>10/05/2016 11:41:00 AM</td>\n",
       "      <td>DEP</td>\n",
       "      <td>Department of Environmental Protection</td>\n",
       "      <td>Noise</td>\n",
       "      <td>Noise, Barking Dog (NR5)</td>\n",
       "      <td>10038</td>\n",
       "      <td>NEW YORK</td>\n",
       "      <td>01 MANHATTAN</td>\n",
       "      <td>MANHATTAN</td>\n",
       "      <td>40.709748</td>\n",
       "      <td>-74.006792</td>\n",
       "      <td>(40.70974831269426, -74.00679194227898)</td>\n",
       "    </tr>\n",
       "    <tr>\n",
       "      <th>1</th>\n",
       "      <td>34440868</td>\n",
       "      <td>09/30/2016 05:07:00 PM</td>\n",
       "      <td>10/05/2016 09:06:00 AM</td>\n",
       "      <td>DEP</td>\n",
       "      <td>Department of Environmental Protection</td>\n",
       "      <td>Noise</td>\n",
       "      <td>Noise, Barking Dog (NR5)</td>\n",
       "      <td>11216</td>\n",
       "      <td>BROOKLYN</td>\n",
       "      <td>08 BROOKLYN</td>\n",
       "      <td>BROOKLYN</td>\n",
       "      <td>40.677604</td>\n",
       "      <td>-73.948759</td>\n",
       "      <td>(40.67760409805561, -73.94875870826627)</td>\n",
       "    </tr>\n",
       "    <tr>\n",
       "      <th>2</th>\n",
       "      <td>34444617</td>\n",
       "      <td>10/01/2016 08:42:00 PM</td>\n",
       "      <td>10/05/2016 11:59:00 AM</td>\n",
       "      <td>DEP</td>\n",
       "      <td>Department of Environmental Protection</td>\n",
       "      <td>Noise</td>\n",
       "      <td>Noise, Barking Dog (NR5)</td>\n",
       "      <td>11231</td>\n",
       "      <td>BROOKLYN</td>\n",
       "      <td>06 BROOKLYN</td>\n",
       "      <td>BROOKLYN</td>\n",
       "      <td>40.676467</td>\n",
       "      <td>-74.013087</td>\n",
       "      <td>(40.67646744834844, -74.01308680144253)</td>\n",
       "    </tr>\n",
       "    <tr>\n",
       "      <th>3</th>\n",
       "      <td>34445224</td>\n",
       "      <td>10/01/2016 01:41:00 AM</td>\n",
       "      <td>10/05/2016 11:45:00 AM</td>\n",
       "      <td>DEP</td>\n",
       "      <td>Department of Environmental Protection</td>\n",
       "      <td>Noise</td>\n",
       "      <td>Noise, Barking Dog (NR5)</td>\n",
       "      <td>11354</td>\n",
       "      <td>Flushing</td>\n",
       "      <td>07 QUEENS</td>\n",
       "      <td>QUEENS</td>\n",
       "      <td>40.761097</td>\n",
       "      <td>-73.824006</td>\n",
       "      <td>(40.76109741839995, -73.82400602410654)</td>\n",
       "    </tr>\n",
       "    <tr>\n",
       "      <th>4</th>\n",
       "      <td>34445505</td>\n",
       "      <td>10/01/2016 06:43:00 PM</td>\n",
       "      <td>10/05/2016 11:53:00 AM</td>\n",
       "      <td>DEP</td>\n",
       "      <td>Department of Environmental Protection</td>\n",
       "      <td>Noise</td>\n",
       "      <td>Noise, Barking Dog (NR5)</td>\n",
       "      <td>11377</td>\n",
       "      <td>Woodside</td>\n",
       "      <td>02 QUEENS</td>\n",
       "      <td>QUEENS</td>\n",
       "      <td>40.737326</td>\n",
       "      <td>-73.922335</td>\n",
       "      <td>(40.73732635345773, -73.92233483940846)</td>\n",
       "    </tr>\n",
       "  </tbody>\n",
       "</table>\n",
       "</div>"
      ],
      "text/plain": [
       "   unique_key            created_date             closed_date agency  \\\n",
       "0    34440200  09/30/2016 11:44:00 AM  10/05/2016 11:41:00 AM    DEP   \n",
       "1    34440868  09/30/2016 05:07:00 PM  10/05/2016 09:06:00 AM    DEP   \n",
       "2    34444617  10/01/2016 08:42:00 PM  10/05/2016 11:59:00 AM    DEP   \n",
       "3    34445224  10/01/2016 01:41:00 AM  10/05/2016 11:45:00 AM    DEP   \n",
       "4    34445505  10/01/2016 06:43:00 PM  10/05/2016 11:53:00 AM    DEP   \n",
       "\n",
       "                              agency_name complaint_type  \\\n",
       "0  Department of Environmental Protection          Noise   \n",
       "1  Department of Environmental Protection          Noise   \n",
       "2  Department of Environmental Protection          Noise   \n",
       "3  Department of Environmental Protection          Noise   \n",
       "4  Department of Environmental Protection          Noise   \n",
       "\n",
       "                 descriptor  incident_zip      city community_board  \\\n",
       "0  Noise, Barking Dog (NR5)         10038  NEW YORK    01 MANHATTAN   \n",
       "1  Noise, Barking Dog (NR5)         11216  BROOKLYN     08 BROOKLYN   \n",
       "2  Noise, Barking Dog (NR5)         11231  BROOKLYN     06 BROOKLYN   \n",
       "3  Noise, Barking Dog (NR5)         11354  Flushing       07 QUEENS   \n",
       "4  Noise, Barking Dog (NR5)         11377  Woodside       02 QUEENS   \n",
       "\n",
       "     borough   latitude  longitude                                 location  \n",
       "0  MANHATTAN  40.709748 -74.006792  (40.70974831269426, -74.00679194227898)  \n",
       "1   BROOKLYN  40.677604 -73.948759  (40.67760409805561, -73.94875870826627)  \n",
       "2   BROOKLYN  40.676467 -74.013087  (40.67646744834844, -74.01308680144253)  \n",
       "3     QUEENS  40.761097 -73.824006  (40.76109741839995, -73.82400602410654)  \n",
       "4     QUEENS  40.737326 -73.922335  (40.73732635345773, -73.92233483940846)  "
      ]
     },
     "execution_count": 12,
     "metadata": {},
     "output_type": "execute_result"
    }
   ],
   "source": [
    "#Cleaning column name syntax\n",
    "noise_df.columns = ['unique_key','created_date', 'closed_date', 'agency', 'agency_name','complaint_type',\\\n",
    "                    'descriptor', 'incident_zip', 'city','community_board', 'borough', 'latitude', 'longitude',\\\n",
    "                    'location']\n",
    "\n",
    "noise_df.head(5)"
   ]
  },
  {
   "cell_type": "code",
   "execution_count": 13,
   "metadata": {
    "collapsed": false
   },
   "outputs": [
    {
     "data": {
      "text/plain": [
       "array([10038, 11216, 11231, 11354, 11377, 11106, 11210, 11374, 11221,\n",
       "       11370, 11101, 10305, 10306, 11694, 11215, 11238, 10302, 10009,\n",
       "       10128, 10012, 11237, 11419, 10003, 11433, 11375, 11225, 11249,\n",
       "       10468, 10025, 10017, 10452, 10464, 11103, 10007, 11228, 11234,\n",
       "       11204, 10006, 11367, 10472, 10466, 11201, 11233, 10005, 10027,\n",
       "       10314, 10458, 11235, 10022, 11361, 11209, 11205, 10033, 10019,\n",
       "       10036, 11360, 10032, 10016, 10456, 10011, 11211, 10029, 11356,\n",
       "       11203, 11385, 11372, 10002, 10455, 11358, 10035, 10461, 10010,\n",
       "       11105, 10469, 11223, 10014, 11691, 10023, 11220, 11369, 10471,\n",
       "       11226, 11102, 11206, 11222, 11207, 11217, 10021, 10030, 10465,\n",
       "       10001, 11416, 11434, 10040, 11435, 10034, 10013, 10467, 11418,\n",
       "       11230, 10039, 11366, 11212, 11411, 11417, 11420, 11423, 10031,\n",
       "       10457, 10065, 11214, 10018, 10026, 10460, 11426, 11229, 11213,\n",
       "       10308, 11232, 10301, 10069, 10473, 11208, 10004, 10028, 11368,\n",
       "       11355, 10462, 11373, 10451, 11412, 10453, 11218, 11365, 11432,\n",
       "       10024, 10280, 11219, 11421, 10075, 10459, 11693, 11414, 11362,\n",
       "       11436, 10463, 10474, 11378, 10470, 10037, 10454, 11224, 10304,\n",
       "       10310, 11415, 11104, 11357, 11692, 10303, 11379, 10475, 11413,\n",
       "       10312, 11236, 11109, 11427, 10044, 11429, 10278, 11363, 10309,\n",
       "       10307, 11422, 11428, 11364, 10000, 11239, 10282, 11001, 10281,\n",
       "       11004, 11040, 10121,    83, 10162, 11697, 10020, 10041, 10177,\n",
       "       10279, 11430, 10118, 10119, 10045, 10106, 11005, 10112, 11359,\n",
       "       10170, 10120, 11242, 10103, 10111, 10107, 10271])"
      ]
     },
     "execution_count": 13,
     "metadata": {},
     "output_type": "execute_result"
    }
   ],
   "source": [
    "noise_df[\"incident_zip\"].unique()"
   ]
  },
  {
   "cell_type": "markdown",
   "metadata": {},
   "source": [
    "# Data Analysis"
   ]
  },
  {
   "cell_type": "code",
   "execution_count": 14,
   "metadata": {
    "collapsed": false
   },
   "outputs": [
    {
     "data": {
      "image/png": "[encoded data removed]",
      "text/plain": [
       "<matplotlib.figure.Figure at 0x109ba9828>"
      ]
     },
     "metadata": {},
     "output_type": "display_data"
    }
   ],
   "source": [
    "#count by agency\n",
    "agency_count = sns.countplot(x=\"agency\", data=noise_df)"
   ]
  },
  {
   "cell_type": "code",
   "execution_count": 15,
   "metadata": {
    "collapsed": false
   },
   "outputs": [
    {
     "data": {
      "image/png": "[encoded data removed]",
      "text/plain": [
       "<matplotlib.figure.Figure at 0x10a088748>"
      ]
     },
     "metadata": {},
     "output_type": "display_data"
    }
   ],
   "source": [
    "#count by borough\n",
    "agency_count = sns.countplot(x=\"borough\", data=noise_df)"
   ]
  },
  {
   "cell_type": "markdown",
   "metadata": {},
   "source": [
    "# Choropleth Map"
   ]
  },
  {
   "cell_type": "code",
   "execution_count": 32,
   "metadata": {
    "collapsed": false
   },
   "outputs": [
    {
     "ename": "ValueError",
     "evalue": "The truth value of a DataFrame is ambiguous. Use a.empty, a.bool(), a.item(), a.any() or a.all().",
     "output_type": "error",
     "traceback": [
      "\u001b[0;31m---------------------------------------------------------------------------\u001b[0m",
      "\u001b[0;31mValueError\u001b[0m                                Traceback (most recent call last)",
      "\u001b[0;32m<ipython-input-32-645f8361959e>\u001b[0m in \u001b[0;36m<module>\u001b[0;34m()\u001b[0m\n\u001b[1;32m     14\u001b[0m              \u001b[0mcolumns\u001b[0m\u001b[0;34m=\u001b[0m\u001b[0;34m[\u001b[0m\u001b[0;34m\"zip_code\"\u001b[0m\u001b[0;34m,\u001b[0m\u001b[0;34m\"count\"\u001b[0m\u001b[0;34m]\u001b[0m\u001b[0;34m,\u001b[0m\u001b[0;34m\u001b[0m\u001b[0m\n\u001b[1;32m     15\u001b[0m              \u001b[0mkey_on\u001b[0m\u001b[0;34m=\u001b[0m\u001b[0;34m'feature.id'\u001b[0m\u001b[0;34m,\u001b[0m\u001b[0;34m\u001b[0m\u001b[0m\n\u001b[0;32m---> 16\u001b[0;31m              fill_color='BuPu', fill_opacity=0.7, line_opacity=0.2)\n\u001b[0m\u001b[1;32m     17\u001b[0m \u001b[0;34m\u001b[0m\u001b[0m\n\u001b[1;32m     18\u001b[0m \u001b[0;31m#map.save('nyc_by_zipcode.html')\u001b[0m\u001b[0;34m\u001b[0m\u001b[0;34m\u001b[0m\u001b[0m\n",
      "\u001b[0;32m/usr/local/lib/python3.5/site-packages/folium/folium.py\u001b[0m in \u001b[0;36mchoropleth\u001b[0;34m(self, geo_path, geo_str, data_out, data, columns, key_on, threshold_scale, fill_color, fill_opacity, line_color, line_weight, line_opacity, legend_name, topojson, reset)\u001b[0m\n\u001b[1;32m    603\u001b[0m \u001b[0;34m\u001b[0m\u001b[0m\n\u001b[1;32m    604\u001b[0m         \u001b[0;31m# Create GeoJson object\u001b[0m\u001b[0;34m\u001b[0m\u001b[0;34m\u001b[0m\u001b[0m\n\u001b[0;32m--> 605\u001b[0;31m         \u001b[0;32mif\u001b[0m \u001b[0mgeo_path\u001b[0m\u001b[0;34m:\u001b[0m\u001b[0;34m\u001b[0m\u001b[0m\n\u001b[0m\u001b[1;32m    606\u001b[0m             \u001b[0mgeo_data\u001b[0m \u001b[0;34m=\u001b[0m \u001b[0mopen\u001b[0m\u001b[0;34m(\u001b[0m\u001b[0mgeo_path\u001b[0m\u001b[0;34m)\u001b[0m\u001b[0;34m\u001b[0m\u001b[0m\n\u001b[1;32m    607\u001b[0m         \u001b[0;32melif\u001b[0m \u001b[0mgeo_str\u001b[0m\u001b[0;34m:\u001b[0m\u001b[0;34m\u001b[0m\u001b[0m\n",
      "\u001b[0;32m/usr/local/lib/python3.5/site-packages/pandas/core/generic.py\u001b[0m in \u001b[0;36m__nonzero__\u001b[0;34m(self)\u001b[0m\n\u001b[1;32m    885\u001b[0m         raise ValueError(\"The truth value of a {0} is ambiguous. \"\n\u001b[1;32m    886\u001b[0m                          \u001b[0;34m\"Use a.empty, a.bool(), a.item(), a.any() or a.all().\"\u001b[0m\u001b[0;34m\u001b[0m\u001b[0m\n\u001b[0;32m--> 887\u001b[0;31m                          .format(self.__class__.__name__))\n\u001b[0m\u001b[1;32m    888\u001b[0m \u001b[0;34m\u001b[0m\u001b[0m\n\u001b[1;32m    889\u001b[0m     \u001b[0m__bool__\u001b[0m \u001b[0;34m=\u001b[0m \u001b[0m__nonzero__\u001b[0m\u001b[0;34m\u001b[0m\u001b[0m\n",
      "\u001b[0;31mValueError\u001b[0m: The truth value of a DataFrame is ambiguous. Use a.empty, a.bool(), a.item(), a.any() or a.all()."
     ]
    }
   ],
   "source": [
    "#choropleth map\n",
    "\n",
    "zipcode_geo = pd.read_csv(\"data/zip_to_zcta_2016.csv\")\n",
    "\n",
    "\n",
    "zip_data = noise_df[\"incident_zip\"].value_counts()\n",
    "zip_count = pd.DataFrame(zip_data).reset_index()\n",
    "zip_count.columns = [\"zip_code\",\"count\"]\n",
    "\n",
    "\n",
    "#Let Folium determine the scale\n",
    "map = folium.Map(location=[40.7128, -74.0059], zoom_start=13)\n",
    "map.choropleth(geo_path=zipcode_geo, data=zip_count,\n",
    "             columns=[\"zip_code\",\"count\"],\n",
    "             key_on='feature.id',\n",
    "             fill_color='BuPu', fill_opacity=0.7, line_opacity=0.2)\n",
    "\n",
    "#map.save('nyc_by_zipcode.html')"
   ]
  },
  {
   "cell_type": "code",
   "execution_count": null,
   "metadata": {
    "collapsed": false
   },
   "outputs": [],
   "source": [
    "noise_df[\"incident_zip\"].value_counts()"
   ]
  },
  {
   "cell_type": "markdown",
   "metadata": {},
   "source": [
    "# TO DO "
   ]
  },
  {
   "cell_type": "code",
   "execution_count": null,
   "metadata": {
    "collapsed": false
   },
   "outputs": [],
   "source": [
    "\"\"\"\n",
    "0) Update README\n",
    "00) Clean up zip code instances\n",
    "1) Compare number of complaints by month, then by borough\n",
    "2) Compare number of complaints by time of day, then by borough\n",
    "3) Compare number of complaints by day of week, then by borough\n",
    "4) Zipcode=10032 stats \n",
    "5) Top 10 zipcodes by month, time of day and day of the week\n",
    "6) Visualize with Choropleth Map of NYC by Zip Code\n",
    "\n",
    "#count by create time\n",
    "#count by create date\n",
    "#count by descriptor\n",
    "#count by top incident zip\n",
    "#count by top days of the years\n",
    "#count by month of the year\n",
    "#count by zipcode=10032\n",
    "\"\"\""
   ]
  },
  {
   "cell_type": "code",
   "execution_count": 26,
   "metadata": {
    "collapsed": false
   },
   "outputs": [
    {
     "data": {
      "text/html": [
       "<div>\n",
       "<table border=\"1\" class=\"dataframe\">\n",
       "  <thead>\n",
       "    <tr style=\"text-align: right;\">\n",
       "      <th></th>\n",
       "      <th>zip_code</th>\n",
       "      <th>count</th>\n",
       "    </tr>\n",
       "  </thead>\n",
       "  <tbody>\n",
       "    <tr>\n",
       "      <th>0</th>\n",
       "      <td>10031</td>\n",
       "      <td>8060</td>\n",
       "    </tr>\n",
       "    <tr>\n",
       "      <th>1</th>\n",
       "      <td>11226</td>\n",
       "      <td>7861</td>\n",
       "    </tr>\n",
       "    <tr>\n",
       "      <th>2</th>\n",
       "      <td>10040</td>\n",
       "      <td>7575</td>\n",
       "    </tr>\n",
       "    <tr>\n",
       "      <th>3</th>\n",
       "      <td>11205</td>\n",
       "      <td>6952</td>\n",
       "    </tr>\n",
       "    <tr>\n",
       "      <th>4</th>\n",
       "      <td>10034</td>\n",
       "      <td>6728</td>\n",
       "    </tr>\n",
       "    <tr>\n",
       "      <th>5</th>\n",
       "      <td>10456</td>\n",
       "      <td>6700</td>\n",
       "    </tr>\n",
       "    <tr>\n",
       "      <th>6</th>\n",
       "      <td>10002</td>\n",
       "      <td>6574</td>\n",
       "    </tr>\n",
       "    <tr>\n",
       "      <th>7</th>\n",
       "      <td>11221</td>\n",
       "      <td>6261</td>\n",
       "    </tr>\n",
       "    <tr>\n",
       "      <th>8</th>\n",
       "      <td>10467</td>\n",
       "      <td>6252</td>\n",
       "    </tr>\n",
       "    <tr>\n",
       "      <th>9</th>\n",
       "      <td>11216</td>\n",
       "      <td>6209</td>\n",
       "    </tr>\n",
       "    <tr>\n",
       "      <th>10</th>\n",
       "      <td>11211</td>\n",
       "      <td>6162</td>\n",
       "    </tr>\n",
       "    <tr>\n",
       "      <th>11</th>\n",
       "      <td>10468</td>\n",
       "      <td>6078</td>\n",
       "    </tr>\n",
       "    <tr>\n",
       "      <th>12</th>\n",
       "      <td>11238</td>\n",
       "      <td>6076</td>\n",
       "    </tr>\n",
       "    <tr>\n",
       "      <th>13</th>\n",
       "      <td>10032</td>\n",
       "      <td>6070</td>\n",
       "    </tr>\n",
       "    <tr>\n",
       "      <th>14</th>\n",
       "      <td>11206</td>\n",
       "      <td>6011</td>\n",
       "    </tr>\n",
       "    <tr>\n",
       "      <th>15</th>\n",
       "      <td>11237</td>\n",
       "      <td>5945</td>\n",
       "    </tr>\n",
       "    <tr>\n",
       "      <th>16</th>\n",
       "      <td>10009</td>\n",
       "      <td>5890</td>\n",
       "    </tr>\n",
       "    <tr>\n",
       "      <th>17</th>\n",
       "      <td>10472</td>\n",
       "      <td>5618</td>\n",
       "    </tr>\n",
       "    <tr>\n",
       "      <th>18</th>\n",
       "      <td>10033</td>\n",
       "      <td>5614</td>\n",
       "    </tr>\n",
       "    <tr>\n",
       "      <th>19</th>\n",
       "      <td>10452</td>\n",
       "      <td>5565</td>\n",
       "    </tr>\n",
       "    <tr>\n",
       "      <th>20</th>\n",
       "      <td>10027</td>\n",
       "      <td>5527</td>\n",
       "    </tr>\n",
       "    <tr>\n",
       "      <th>21</th>\n",
       "      <td>10458</td>\n",
       "      <td>5193</td>\n",
       "    </tr>\n",
       "    <tr>\n",
       "      <th>22</th>\n",
       "      <td>10457</td>\n",
       "      <td>5185</td>\n",
       "    </tr>\n",
       "    <tr>\n",
       "      <th>23</th>\n",
       "      <td>10029</td>\n",
       "      <td>5058</td>\n",
       "    </tr>\n",
       "    <tr>\n",
       "      <th>24</th>\n",
       "      <td>10003</td>\n",
       "      <td>4972</td>\n",
       "    </tr>\n",
       "    <tr>\n",
       "      <th>25</th>\n",
       "      <td>10453</td>\n",
       "      <td>4902</td>\n",
       "    </tr>\n",
       "    <tr>\n",
       "      <th>26</th>\n",
       "      <td>10025</td>\n",
       "      <td>4613</td>\n",
       "    </tr>\n",
       "    <tr>\n",
       "      <th>27</th>\n",
       "      <td>11225</td>\n",
       "      <td>4506</td>\n",
       "    </tr>\n",
       "    <tr>\n",
       "      <th>28</th>\n",
       "      <td>11385</td>\n",
       "      <td>4287</td>\n",
       "    </tr>\n",
       "    <tr>\n",
       "      <th>29</th>\n",
       "      <td>10001</td>\n",
       "      <td>4103</td>\n",
       "    </tr>\n",
       "    <tr>\n",
       "      <th>...</th>\n",
       "      <td>...</td>\n",
       "      <td>...</td>\n",
       "    </tr>\n",
       "    <tr>\n",
       "      <th>175</th>\n",
       "      <td>10282</td>\n",
       "      <td>57</td>\n",
       "    </tr>\n",
       "    <tr>\n",
       "      <th>176</th>\n",
       "      <td>11109</td>\n",
       "      <td>52</td>\n",
       "    </tr>\n",
       "    <tr>\n",
       "      <th>177</th>\n",
       "      <td>11001</td>\n",
       "      <td>51</td>\n",
       "    </tr>\n",
       "    <tr>\n",
       "      <th>178</th>\n",
       "      <td>83</td>\n",
       "      <td>49</td>\n",
       "    </tr>\n",
       "    <tr>\n",
       "      <th>179</th>\n",
       "      <td>10281</td>\n",
       "      <td>40</td>\n",
       "    </tr>\n",
       "    <tr>\n",
       "      <th>180</th>\n",
       "      <td>10000</td>\n",
       "      <td>39</td>\n",
       "    </tr>\n",
       "    <tr>\n",
       "      <th>181</th>\n",
       "      <td>11040</td>\n",
       "      <td>23</td>\n",
       "    </tr>\n",
       "    <tr>\n",
       "      <th>182</th>\n",
       "      <td>10121</td>\n",
       "      <td>23</td>\n",
       "    </tr>\n",
       "    <tr>\n",
       "      <th>183</th>\n",
       "      <td>10020</td>\n",
       "      <td>18</td>\n",
       "    </tr>\n",
       "    <tr>\n",
       "      <th>184</th>\n",
       "      <td>10118</td>\n",
       "      <td>14</td>\n",
       "    </tr>\n",
       "    <tr>\n",
       "      <th>185</th>\n",
       "      <td>11697</td>\n",
       "      <td>11</td>\n",
       "    </tr>\n",
       "    <tr>\n",
       "      <th>186</th>\n",
       "      <td>10119</td>\n",
       "      <td>8</td>\n",
       "    </tr>\n",
       "    <tr>\n",
       "      <th>187</th>\n",
       "      <td>10041</td>\n",
       "      <td>7</td>\n",
       "    </tr>\n",
       "    <tr>\n",
       "      <th>188</th>\n",
       "      <td>10106</td>\n",
       "      <td>7</td>\n",
       "    </tr>\n",
       "    <tr>\n",
       "      <th>189</th>\n",
       "      <td>10278</td>\n",
       "      <td>5</td>\n",
       "    </tr>\n",
       "    <tr>\n",
       "      <th>190</th>\n",
       "      <td>11430</td>\n",
       "      <td>4</td>\n",
       "    </tr>\n",
       "    <tr>\n",
       "      <th>191</th>\n",
       "      <td>10162</td>\n",
       "      <td>4</td>\n",
       "    </tr>\n",
       "    <tr>\n",
       "      <th>192</th>\n",
       "      <td>11005</td>\n",
       "      <td>3</td>\n",
       "    </tr>\n",
       "    <tr>\n",
       "      <th>193</th>\n",
       "      <td>10045</td>\n",
       "      <td>2</td>\n",
       "    </tr>\n",
       "    <tr>\n",
       "      <th>194</th>\n",
       "      <td>10177</td>\n",
       "      <td>2</td>\n",
       "    </tr>\n",
       "    <tr>\n",
       "      <th>195</th>\n",
       "      <td>10107</td>\n",
       "      <td>1</td>\n",
       "    </tr>\n",
       "    <tr>\n",
       "      <th>196</th>\n",
       "      <td>10112</td>\n",
       "      <td>1</td>\n",
       "    </tr>\n",
       "    <tr>\n",
       "      <th>197</th>\n",
       "      <td>10120</td>\n",
       "      <td>1</td>\n",
       "    </tr>\n",
       "    <tr>\n",
       "      <th>198</th>\n",
       "      <td>10271</td>\n",
       "      <td>1</td>\n",
       "    </tr>\n",
       "    <tr>\n",
       "      <th>199</th>\n",
       "      <td>10111</td>\n",
       "      <td>1</td>\n",
       "    </tr>\n",
       "    <tr>\n",
       "      <th>200</th>\n",
       "      <td>10103</td>\n",
       "      <td>1</td>\n",
       "    </tr>\n",
       "    <tr>\n",
       "      <th>201</th>\n",
       "      <td>10170</td>\n",
       "      <td>1</td>\n",
       "    </tr>\n",
       "    <tr>\n",
       "      <th>202</th>\n",
       "      <td>10279</td>\n",
       "      <td>1</td>\n",
       "    </tr>\n",
       "    <tr>\n",
       "      <th>203</th>\n",
       "      <td>11242</td>\n",
       "      <td>1</td>\n",
       "    </tr>\n",
       "    <tr>\n",
       "      <th>204</th>\n",
       "      <td>11359</td>\n",
       "      <td>1</td>\n",
       "    </tr>\n",
       "  </tbody>\n",
       "</table>\n",
       "<p>205 rows × 2 columns</p>\n",
       "</div>"
      ],
      "text/plain": [
       "     zip_code  count\n",
       "0       10031   8060\n",
       "1       11226   7861\n",
       "2       10040   7575\n",
       "3       11205   6952\n",
       "4       10034   6728\n",
       "5       10456   6700\n",
       "6       10002   6574\n",
       "7       11221   6261\n",
       "8       10467   6252\n",
       "9       11216   6209\n",
       "10      11211   6162\n",
       "11      10468   6078\n",
       "12      11238   6076\n",
       "13      10032   6070\n",
       "14      11206   6011\n",
       "15      11237   5945\n",
       "16      10009   5890\n",
       "17      10472   5618\n",
       "18      10033   5614\n",
       "19      10452   5565\n",
       "20      10027   5527\n",
       "21      10458   5193\n",
       "22      10457   5185\n",
       "23      10029   5058\n",
       "24      10003   4972\n",
       "25      10453   4902\n",
       "26      10025   4613\n",
       "27      11225   4506\n",
       "28      11385   4287\n",
       "29      10001   4103\n",
       "..        ...    ...\n",
       "175     10282     57\n",
       "176     11109     52\n",
       "177     11001     51\n",
       "178        83     49\n",
       "179     10281     40\n",
       "180     10000     39\n",
       "181     11040     23\n",
       "182     10121     23\n",
       "183     10020     18\n",
       "184     10118     14\n",
       "185     11697     11\n",
       "186     10119      8\n",
       "187     10041      7\n",
       "188     10106      7\n",
       "189     10278      5\n",
       "190     11430      4\n",
       "191     10162      4\n",
       "192     11005      3\n",
       "193     10045      2\n",
       "194     10177      2\n",
       "195     10107      1\n",
       "196     10112      1\n",
       "197     10120      1\n",
       "198     10271      1\n",
       "199     10111      1\n",
       "200     10103      1\n",
       "201     10170      1\n",
       "202     10279      1\n",
       "203     11242      1\n",
       "204     11359      1\n",
       "\n",
       "[205 rows x 2 columns]"
      ]
     },
     "execution_count": 26,
     "metadata": {},
     "output_type": "execute_result"
    }
   ],
   "source": [
    "t = noise_df[\"incident_zip\"].value_counts()\n",
    "s = pd.DataFrame(t).reset_index()\n",
    "s.columns = [\"zip_code\",\"count\"]\n",
    "s"
   ]
  },
  {
   "cell_type": "code",
   "execution_count": null,
   "metadata": {
    "collapsed": true
   },
   "outputs": [],
   "source": []
  }
 ],
 "metadata": {
  "extensions": {
   "jupyter_dashboards": {
    "activeView": "grid_default",
    "version": 1,
    "views": {
     "grid_default": {
      "cellMargin": 10,
      "defaultCellHeight": 20,
      "maxColumns": 12,
      "name": "grid",
      "type": "grid"
     },
     "report_default": {
      "name": "report",
      "type": "report"
     }
    }
   }
  },
  "kernelspec": {
   "display_name": "Python 3",
   "language": "python",
   "name": "python3"
  },
  "language_info": {
   "codemirror_mode": {
    "name": "ipython",
    "version": 3
   },
   "file_extension": ".py",
   "mimetype": "text/x-python",
   "name": "python",
   "nbconvert_exporter": "python",
   "pygments_lexer": "ipython3",
   "version": "3.5.1"
  }
 },
 "nbformat": 4,
 "nbformat_minor": 2
}
